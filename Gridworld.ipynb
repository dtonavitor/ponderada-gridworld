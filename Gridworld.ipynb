{
  "nbformat": 4,
  "nbformat_minor": 0,
  "metadata": {
    "colab": {
      "provenance": [],
      "authorship_tag": "ABX9TyNyLQ2AFJGk7dX2EyAE6wP9",
      "include_colab_link": true
    },
    "kernelspec": {
      "name": "python3",
      "display_name": "Python 3"
    },
    "language_info": {
      "name": "python"
    }
  },
  "cells": [
    {
      "cell_type": "markdown",
      "metadata": {
        "id": "view-in-github",
        "colab_type": "text"
      },
      "source": [
        "<a href=\"https://colab.research.google.com/github/dtonavitor/ponderada-gridworld/blob/main/Gridworld.ipynb\" target=\"_parent\"><img src=\"https://colab.research.google.com/assets/colab-badge.svg\" alt=\"Open In Colab\"/></a>"
      ]
    },
    {
      "cell_type": "code",
      "source": [
        "import numpy as np\n",
        "import matplotlib.pyplot as plt\n",
        "import matplotlib.colors as mcolors\n",
        "import random"
      ],
      "metadata": {
        "id": "jabBRXiCABTY"
      },
      "execution_count": null,
      "outputs": []
    },
    {
      "cell_type": "markdown",
      "source": [
        "OBS: Ponto inicial (0, 0); Ponto final (7, 7)\n",
        "\n",
        "Na classe Grid temos o método \"step\". Ele funciona tanto para a lógica do agente quanto para a recompensa. Nele o agente pondera para qual estado cada ação que ele pode tomar o levará e qual será sua recompensa (essas informações serão utilizadas para calcular o valor esperado). As recompensas foram decididas da seguinte forma:\n",
        "\n",
        "- Chegar no ponto final: recompensa de 10\n",
        "- Cada ação tomada para um novo estado: recompensa de -0.05 (a punição incentiva a busca pelo menor caminho)\n",
        "- Tomar uma ação e permanecer no mesmo estado (bordas do grid): recompensa de -0.5\n",
        "- Cair em uma montanha: recompensa de -3\n",
        "- Cair em uma areia movediça: recompensa de -10"
      ],
      "metadata": {
        "id": "A60_nHjvGNnC"
      }
    },
    {
      "cell_type": "code",
      "execution_count": null,
      "metadata": {
        "id": "IY3r3V_i-jbY"
      },
      "outputs": [],
      "source": [
        "class Grid:\n",
        "    \"\"\"\n",
        "        Classe que representa o ambiente de jogo.\n",
        "        Atributos:\n",
        "            grid: matriz que representa o ambiente.\n",
        "            montanhas_posicao: lista com as posições das montanhas.\n",
        "            areias_posicao: lista com as posições das areias.\n",
        "    \"\"\"\n",
        "    def __init__(self, montanhas=3, areias=3):\n",
        "        \"\"\"\n",
        "        Inicializa o ambiente randomizando as posições das montanhas e areias de acordo com os parâmetros.\n",
        "        Args:\n",
        "            montanhas (int, opicional): número de montanhas a serem adicionadas no grid. Padrão com 3.\n",
        "            areias (int, opicional): número de areias movediças a serem adicionadas no grid. Padrão com 3.\n",
        "        Returns:\n",
        "            None\n",
        "        \"\"\"\n",
        "        self.grid = np.zeros((8, 8))\n",
        "        self.montanhas_posicao = []\n",
        "        self.areias_posicao = []\n",
        "\n",
        "        qtd_montanhas = 0\n",
        "        while qtd_montanhas < montanhas:\n",
        "            x = random.randint(0, 7)\n",
        "            y = random.randint(0, 7)\n",
        "            posicao = (x, y)\n",
        "            # Verifica se a posição já não foi ocupada por uma montanha ou se é a posição inicial ou final\n",
        "            if self.grid[x][y] == 0 and posicao != (0, 0) and posicao != (7, 7):\n",
        "                self.grid[x][y] = 4\n",
        "                self.montanhas_posicao.append(posicao)\n",
        "                qtd_montanhas += 1\n",
        "\n",
        "        qtd_areias = 0\n",
        "        while qtd_areias < areias:\n",
        "            x = random.randint(0, 7)\n",
        "            y = random.randint(0, 7)\n",
        "            posicao = (x, y)\n",
        "            if self.grid[x][y] == 0 and posicao != (0, 0) and posicao != (7, 7):\n",
        "                self.grid[x][y] = -8\n",
        "                self.areias_posicao.append((x, y))\n",
        "                qtd_areias += 1\n",
        "\n",
        "        self.grid[0][0] = 20\n",
        "        self.grid[7][7] = 20\n",
        "\n",
        "        self.reset()\n",
        "        return\n",
        "\n",
        "    def reset(self):\n",
        "        \"\"\"\n",
        "        Reinicia o ambiente, zerando os valores dos estados.\n",
        "        \"\"\"\n",
        "        self.valores = np.zeros((8, 8))\n",
        "        return\n",
        "\n",
        "    def step(self, estado, acao):\n",
        "        \"\"\"\n",
        "        Executa uma ação em um estado do ambiente.\n",
        "        Retorna o próximo estado e a recompensa associada.\n",
        "        Args:\n",
        "            estado (tuple): tupla com as coordenadas do estado atual.\n",
        "            acao (tuple): ação a ser executada.\n",
        "\n",
        "        Returns:\n",
        "            prox_estado (tuple): coordenadas do próximo estado.\n",
        "            recompensa (float): recompensa associada à ação.\n",
        "        \"\"\"\n",
        "        if estado == (7, 7):\n",
        "            return estado, 10\n",
        "\n",
        "        if estado in self.areias_posicao:\n",
        "            return estado, -10\n",
        "\n",
        "        if estado in self.montanhas_posicao:\n",
        "            return estado, -3\n",
        "\n",
        "        recompensa = -0.05\n",
        "\n",
        "        prox_estado = ()\n",
        "\n",
        "        if acao == (-1, 0):\n",
        "            prox_estado = (estado[0] - 1, estado[1])\n",
        "        elif acao == (1, 0):\n",
        "            prox_estado = (estado[0] + 1, estado[1])\n",
        "        elif acao == (0, 1):\n",
        "            prox_estado = (estado[0], estado[1] + 1)\n",
        "        elif acao == (0, -1):\n",
        "            prox_estado = (estado[0], estado[1] - 1)\n",
        "\n",
        "        if prox_estado[0] < 0 or prox_estado[0] > 7:\n",
        "            prox_estado = estado\n",
        "            recompensa = -0.5\n",
        "        elif prox_estado[1] < 0 or prox_estado[1] > 7:\n",
        "            prox_estado = estado\n",
        "            recompensa = -0.5\n",
        "\n",
        "        return prox_estado, recompensa\n",
        "\n",
        "    def valor_esperado(self, estado, politica, desconto):\n",
        "        \"\"\" Calcula o valor esperado de um estado de acordo com uma política.\n",
        "            Utiliza a equação de Bellman para calcular o valor esperado. -> V(s) = Σπ(a|s) * ΣP(s'|s, a) * (R(s, a, s') + γV(s'))\n",
        "\n",
        "        Args:\n",
        "            estado (tuple): coordenadas do estado atual.\n",
        "            politica (list): política a ser seguida, que indica a probabilidade de escolha de cada ação.\n",
        "            desconto (float): fator de desconto.\n",
        "\n",
        "        Returns:\n",
        "            valor (float): valor esperado do estado.\n",
        "        \"\"\"\n",
        "        valor = 0\n",
        "        acoes = obter_acoes()\n",
        "        for i in range(len(acoes)):\n",
        "            prox_estado, recompensa = self.step(estado, acoes[i])\n",
        "            if estado == prox_estado:\n",
        "                valor += politica[i] * (recompensa + (desconto * 0))\n",
        "            else:\n",
        "                valor += politica[i] * (recompensa + (desconto * self.valores[prox_estado]))\n",
        "        return valor\n",
        "\n",
        "    def visualizar_grid(self):\n",
        "        \"\"\" Gera uma visualização do grid do ambiente utilizando matplotlib.\n",
        "            Branco: areia movediça.\n",
        "            Verde: caminho livre.\n",
        "            Marrom: montanha.\n",
        "        \"\"\"\n",
        "        cmap = mcolors.ListedColormap(['white', 'green', 'saddlebrown', 'blue'])\n",
        "        bounds = [-9, -7, 3, 5, 25]\n",
        "        norm = mcolors.BoundaryNorm(bounds, cmap.N)\n",
        "\n",
        "        fig, ax = plt.subplots()\n",
        "        ax.imshow(self.grid, cmap=cmap, norm=norm)\n",
        "\n",
        "        ax.set_xticks(np.arange(-.5, 8, 1), minor=True)\n",
        "        ax.set_yticks(np.arange(-.5, 8, 1), minor=True)\n",
        "        ax.grid(which='minor', color='black', linestyle='-', linewidth=2)\n",
        "        ax.tick_params(which='minor', size=0)\n",
        "\n",
        "        for i in range(8):\n",
        "            for j in range(8):\n",
        "                if self.grid[i, j] == 4:\n",
        "                    ax.text(j, i, 'Montanha', ha='center', va='center', color='white')\n",
        "                elif self.grid[i, j] == -8:\n",
        "                    ax.text(j, i, 'Areia', ha='center', va='center', color='black')\n",
        "                elif  i == 0 and j == 0:\n",
        "                    ax.text(j, i, 'Início', ha='center', va='center', color='white')\n",
        "                elif i == 7 and j == 7:\n",
        "                    ax.text(j, i, 'Chegada', ha='center', va='center', color='white')\n",
        "\n",
        "        plt.show()"
      ]
    },
    {
      "cell_type": "code",
      "source": [
        "def obter_acoes():\n",
        "    \"\"\" Retorna uma lista com as ações possíveis.\n",
        "        0 - cima\n",
        "        1 - baixo\n",
        "        2 - direita\n",
        "        3 - esquerda\n",
        "\n",
        "    Returns:\n",
        "        acoes (list): lista com as ações possíveis.\n",
        "    \"\"\"\n",
        "\n",
        "    acoes = [(-1, 0), (1, 0), (0, 1), (0, -1)]\n",
        "    return acoes"
      ],
      "metadata": {
        "id": "3-Q9hFYCFwLK"
      },
      "execution_count": null,
      "outputs": []
    },
    {
      "cell_type": "code",
      "source": [
        "def obter_politicas():\n",
        "    \"\"\" Retorna uma lista com as políticas iniciais para cada estado.\n",
        "        Inicialmente, todas as ações possuem a mesma probabilidade de serem escolhidas (25%).\n",
        "\n",
        "    Returns:\n",
        "        politicas (list): lista com as políticas iniciais.\n",
        "    \"\"\"\n",
        "    politicas = []\n",
        "    for i in range(8):\n",
        "        politica = []\n",
        "        for j in range(8):\n",
        "            politica.append([0.25, 0.25, 0.25, 0.25])\n",
        "        politicas.append(politica)\n",
        "    return politicas"
      ],
      "metadata": {
        "id": "RiB2P0Ara9YO"
      },
      "execution_count": null,
      "outputs": []
    },
    {
      "cell_type": "code",
      "source": [
        "def avaliacao_iterativa(env, politicas, theta, desconto):\n",
        "    \"\"\" Avaliação iterativa de uma politica.\n",
        "\n",
        "    Args:\n",
        "        env (object): objeto da classe Grid que representa o ambiente do jogo.\n",
        "        politicas (list): lista com as políticas a serem avaliadas.\n",
        "        theta (float): valor de theta para a avaliação iterativa. Indica quando a estimativa de valor de um estado está próxima do valor real.\n",
        "        desconto (float): fator de desconto.\n",
        "\n",
        "    Returns:\n",
        "        valores (list): lista com os valores dos estados de acordo com a política após a avaliação.\n",
        "    \"\"\"\n",
        "    delta = theta + 1\n",
        "    while(delta > theta):\n",
        "        delta = 0\n",
        "        for x in range(8):\n",
        "            for y in range(8):\n",
        "                estado = (x, y)\n",
        "                valor = env.valores[x][y]\n",
        "                valor_esperado = env.valor_esperado(estado, politicas[x][y], desconto)\n",
        "                env.valores[x][y] = valor_esperado\n",
        "                delta = max(delta, abs(valor - env.valores[x][y]))\n",
        "\n",
        "    return env.valores"
      ],
      "metadata": {
        "id": "hCSyRXcuchQ-"
      },
      "execution_count": null,
      "outputs": []
    },
    {
      "cell_type": "code",
      "source": [
        "def obter_melhor_valor(grid, estado, desconto):\n",
        "    \"\"\" Retorna o melhor valor e a melhor ação para um estado.\n",
        "        Utiliza a equação de Bellman para calcular o melhor valor. -> V(s) = ΣP(s'|s, a) * (R(s, a, s') + γV(s'))\n",
        "\n",
        "    Args:\n",
        "        env (object): objeto da classe Grid que representa o ambiente do jogo.\n",
        "        estado (tuple): coordenadas do estado atual.\n",
        "        desconto (float): fator de desconto.\n",
        "\n",
        "    Returns:\n",
        "        melhor_acao (int): melhor ação a ser tomada (0 - cima, 1 - baixo, 2 - direita, 3 - esquerda).\n",
        "    \"\"\"\n",
        "    melhor_valor = -np.Infinity\n",
        "    melhor_acao = None\n",
        "    acoes = obter_acoes()\n",
        "    for i in range(len(acoes)):\n",
        "        prox_estado, recompensa = env.step(estado, acoes[i])\n",
        "        if estado == prox_estado:\n",
        "            valor = recompensa + (desconto * 0)\n",
        "        else:\n",
        "            valor = recompensa + (desconto * env.valores[prox_estado])\n",
        "        if valor > melhor_valor:\n",
        "            melhor_valor = valor\n",
        "            melhor_acao = i\n",
        "    return melhor_acao"
      ],
      "metadata": {
        "id": "BBYwaxxHOI12"
      },
      "execution_count": null,
      "outputs": []
    },
    {
      "cell_type": "code",
      "source": [
        "def melhorar_politica(env, politica):\n",
        "    \"\"\" Método para encontrar a melhor política para um ambiente (Policy Iteration).\n",
        "        π(s) = argmax ΣP(s'|s, a) * (R(s, a, s') + γV(s'))\n",
        "\n",
        "    Args:\n",
        "        env (object): objeto da classe Grid que representa o ambiente do jogo.\n",
        "        politica (list): política a ser melhorada.\n",
        "\n",
        "    Returns:\n",
        "        valores (list): lista com os valores dos estados de acordo com a política após a avaliação.\n",
        "        politica (list): política melhorada.\n",
        "    \"\"\"\n",
        "    while True:\n",
        "        valores = avaliacao_iterativa(env, politica, 0.0001, 0.9)\n",
        "        politica_estavel = True\n",
        "        for x in range(8):\n",
        "            for y in range(8):\n",
        "                estado = (x, y)\n",
        "                acao_antiga =  np.argmax(politica[x][y])\n",
        "                melhor_acao = obter_melhor_valor(env, estado, 0.9)\n",
        "                if acao_antiga != melhor_acao:\n",
        "                    politica_estavel = False\n",
        "                politica[x][y] = np.eye(4)[melhor_acao]\n",
        "        if politica_estavel:\n",
        "            return valores, politica"
      ],
      "metadata": {
        "id": "_vxK4MTsNrdW"
      },
      "execution_count": null,
      "outputs": []
    },
    {
      "cell_type": "code",
      "source": [
        "def obter_trajeto(env, valores, politicas):\n",
        "    \"\"\" Calcula o trajeto a ser seguido pelo agente de acordo com a política e os valores dos estados.\n",
        "\n",
        "    Args:\n",
        "        env (object): objeto da classe Grid que representa o ambiente do jogo.\n",
        "        valores (list): valores de cada estado de acordo com a política.\n",
        "        politicas (list): política a ser seguida.\n",
        "\n",
        "    Returns:\n",
        "        trajeto (list): lista com as coordenadas do trajeto a ser seguido.\n",
        "        passos (int): quantidade de passos realizados.\n",
        "        fim_de_jogo (int): indica se o jogo terminou. -1 para fim de jogo, 0 para jogo não terminado.\n",
        "    \"\"\"\n",
        "    passos = 0\n",
        "\n",
        "    trajeto = [(0, 0)]\n",
        "\n",
        "    while True:\n",
        "        x, y = trajeto[-1]\n",
        "\n",
        "        acoes = obter_acoes()\n",
        "        melhor_acao = None\n",
        "        melhor_valor = -np.Infinity\n",
        "\n",
        "        for i in range(len(acoes)):\n",
        "            # Garante que o agente pode executar a ação.\n",
        "            if politicas[x][y][i] != 0:\n",
        "                dx, dy = acoes[i][0], acoes[i][1]\n",
        "                novo_x, novo_y = x + dx, y + dy\n",
        "                # Garante que o novo estado não seja um estado de montanha ou fora do grid.\n",
        "                if 0 <= novo_x < 8 and 0 <= novo_y < 8 and (novo_x, novo_y) not in trajeto and (novo_x, novo_y) not in env.montanhas_posicao:\n",
        "                    valor_vizinho = valores[novo_x, novo_y]\n",
        "                    if valor_vizinho > melhor_valor:\n",
        "                        melhor_valor = valor_vizinho\n",
        "                        melhor_acao = (novo_x, novo_y)\n",
        "\n",
        "        # O jogo acabou se o agente caiu em uma areia movediça.\n",
        "        if melhor_acao in env.areias_posicao:\n",
        "            return trajeto, passos, -1\n",
        "\n",
        "        if melhor_acao:\n",
        "            trajeto.append(melhor_acao)\n",
        "            passos += 1\n",
        "        else:\n",
        "            return trajeto, passos, -1\n",
        "\n",
        "        # O jogo terminou quando o jogador chega no estado (7, 7) ou passa 500 passos. Ganha se chegar em (7, 7).\n",
        "        if passos == 500 or (7, 7) in trajeto:\n",
        "            if passos == 500:\n",
        "                return trajeto, passos, -1\n",
        "            break\n",
        "    return trajeto, passos, 0"
      ],
      "metadata": {
        "id": "baXPTA1oll54"
      },
      "execution_count": null,
      "outputs": []
    },
    {
      "cell_type": "code",
      "source": [
        "def visualizar_trajeto(grid):\n",
        "    \"\"\" Gera uma visualização da rota no grid do ambiente utilizando matplotlib.\n",
        "\n",
        "    Args:\n",
        "        grid (list): lista que representa o grid do ambiente.\n",
        "\n",
        "    \"\"\"\n",
        "    cmap = mcolors.ListedColormap(['white', 'green', 'saddlebrown', 'red'])\n",
        "    bounds = [-9, -7, 3, 5, 10]\n",
        "    norm = mcolors.BoundaryNorm(bounds, cmap.N)\n",
        "\n",
        "    fig, ax = plt.subplots()\n",
        "    ax.imshow(grid, cmap=cmap, norm=norm)\n",
        "\n",
        "    ax.set_xticks(np.arange(-.5, 8, 1), minor=True)\n",
        "    ax.set_yticks(np.arange(-.5, 8, 1), minor=True)\n",
        "    ax.grid(which='minor', color='black', linestyle='-', linewidth=2)\n",
        "    ax.tick_params(which='minor', size=0)\n",
        "\n",
        "    for i in range(8):\n",
        "        for j in range(8):\n",
        "            if grid[i, j] == 4:\n",
        "                ax.text(j, i, 'Montanha', ha='center', va='center', color='white')\n",
        "            elif grid[i, j] == -8:\n",
        "                ax.text(j, i, 'Areia', ha='center', va='center', color='black')\n",
        "\n",
        "    plt.show()\n"
      ],
      "metadata": {
        "id": "6ZWUg-rsl8pJ"
      },
      "execution_count": null,
      "outputs": []
    },
    {
      "cell_type": "code",
      "source": [
        "\"\"\"\n",
        "Código principal que inicializa o grid, calcula os valores e melhora a política.\n",
        "\"\"\"\n",
        "# inicializa o ambiente e imprime o grid gerado\n",
        "env = Grid()\n",
        "print(\"--Grid--\")\n",
        "env.visualizar_grid()\n",
        "\n",
        "# calcula os valores esperados para a política inicial\n",
        "politicas_1 = obter_politicas()\n",
        "valores_1 = avaliacao_iterativa(env, politicas_1, 0.0001, 0.9)\n",
        "\n",
        "print(\"-- Valores Esperados (Política Inicial) --\")\n",
        "print(valores_1)\n",
        "\n",
        "# calcula o trajeto para a política inicial\n",
        "trajeto_1, passos_1, fim_de_jogo = obter_trajeto(env, valores_1, politicas_1)\n",
        "grid_visualizacao_1 = np.copy(env.grid)\n",
        "for posicao in trajeto_1:\n",
        "    grid_visualizacao_1[posicao[0]][posicao[1]] = 10\n",
        "\n",
        "visualizar_trajeto(grid_visualizacao_1)\n",
        "\n",
        "print(f\"Passos da primeira política: {passos_1}\")\n",
        "\n",
        "if fim_de_jogo == -1:\n",
        "    print(\"Fim de jogo\")\n",
        "\n",
        "\n",
        "env.reset()\n",
        "# melhora a política\n",
        "politicas_novas = politicas_1.copy()\n",
        "valores_novos, politicas_novas = melhorar_politica(env, politicas_novas)\n",
        "print(\"\\n\")\n",
        "\n",
        "print(\"-- Nova Política --\")\n",
        "for i in range(8):\n",
        "    print(politicas_novas[i])\n",
        "\n",
        "print(\"\\n\")\n",
        "print(\"-- Valores Esperados (Política Melhorada) --\")\n",
        "print(valores_novos)\n",
        "\n",
        "# calcula a rota da política melhorada\n",
        "grid_visualizacao_2 = np.copy(env.grid)\n",
        "trajeto_2, passos_2, fim_de_jogo = obter_trajeto(env, valores_novos, politicas_novas)\n",
        "\n",
        "for posicao in trajeto_2:\n",
        "    grid_visualizacao_2[posicao[0]][posicao[1]] = 10\n",
        "\n",
        "visualizar_trajeto(grid_visualizacao_2)\n",
        "\n",
        "print(f\"Passos da segunda política: {passos_2}\")\n",
        "\n",
        "if fim_de_jogo == -1:\n",
        "    print(\"Fim de jogo\")"
      ],
      "metadata": {
        "colab": {
          "base_uri": "https://localhost:8080/",
          "height": 1000
        },
        "id": "5M2lcU4VBJ_n",
        "outputId": "38cbcb60-8ffb-455c-cd9a-a5a3b56582b4"
      },
      "execution_count": null,
      "outputs": [
        {
          "output_type": "stream",
          "name": "stdout",
          "text": [
            "--Grid--\n"
          ]
        },
        {
          "output_type": "display_data",
          "data": {
            "text/plain": [
              "<Figure size 640x480 with 1 Axes>"
            ],
            "image/png": "[encoded data removed]"
          },
          "metadata": {}
        },
        {
          "output_type": "stream",
          "name": "stdout",
          "text": [
            "-- Valores Esperados (Política Inicial) --\n",
            "[[ -0.61121453  -0.82419093  -1.40301608  -3.27139242 -10.\n",
            "   -5.46354388 -10.          -3.        ]\n",
            " [ -0.67022095  -0.92676339  -1.41794428  -2.41435231  -4.12189726\n",
            "   -3.56022806  -3.98268391  -2.00684968]\n",
            " [ -0.71870144  -0.98453237  -1.33576716  -1.69711541  -2.12283009\n",
            "   -2.03294727  -1.91154934  -1.21443629]\n",
            " [ -0.81736642  -1.17237174  -1.61504567  -1.4476719   -1.36070631\n",
            "   -1.21855212  -1.04351842  -0.75688346]\n",
            " [ -1.01951048  -1.5714398   -3.          -1.53908458  -1.0363769\n",
            "   -0.75644299  -0.52868029  -0.3837575 ]\n",
            " [ -1.42015616  -1.57008449  -1.65020044  -1.13415852  -0.72771265\n",
            "   -0.35617323   0.05623105   0.30219175]\n",
            " [ -3.          -2.1141535   -1.4077888   -0.90151904  -0.48537855\n",
            "    0.06713227   1.05478776   2.39282039]\n",
            " [-10.          -3.19615472  -1.36876089  -0.75722153  -0.37293235\n",
            "    0.3073408    2.39397893  10.        ]]\n"
          ]
        },
        {
          "output_type": "display_data",
          "data": {
            "text/plain": [
              "<Figure size 640x480 with 1 Axes>"
            ],
            "image/png": "[encoded data removed]"
          },
          "metadata": {}
        },
        {
          "output_type": "stream",
          "name": "stdout",
          "text": [
            "Passos da primeira política: 24\n",
            "\n",
            "\n",
            "-- Nova Política --\n",
            "[array([0., 1., 0., 0.]), array([0., 1., 0., 0.]), array([0., 1., 0., 0.]), array([0., 1., 0., 0.]), array([1., 0., 0., 0.]), array([0., 1., 0., 0.]), array([1., 0., 0., 0.]), array([1., 0., 0., 0.])]\n",
            "[array([0., 1., 0., 0.]), array([0., 1., 0., 0.]), array([0., 1., 0., 0.]), array([0., 1., 0., 0.]), array([0., 1., 0., 0.]), array([0., 1., 0., 0.]), array([0., 1., 0., 0.]), array([0., 1., 0., 0.])]\n",
            "[array([0., 1., 0., 0.]), array([0., 1., 0., 0.]), array([0., 1., 0., 0.]), array([0., 1., 0., 0.]), array([0., 1., 0., 0.]), array([0., 1., 0., 0.]), array([0., 1., 0., 0.]), array([0., 1., 0., 0.])]\n",
            "[array([0., 1., 0., 0.]), array([0., 1., 0., 0.]), array([0., 0., 1., 0.]), array([0., 1., 0., 0.]), array([0., 1., 0., 0.]), array([0., 1., 0., 0.]), array([0., 1., 0., 0.]), array([0., 1., 0., 0.])]\n",
            "[array([0., 1., 0., 0.]), array([0., 1., 0., 0.]), array([1., 0., 0., 0.]), array([0., 1., 0., 0.]), array([0., 1., 0., 0.]), array([0., 1., 0., 0.]), array([0., 1., 0., 0.]), array([0., 1., 0., 0.])]\n",
            "[array([0., 0., 1., 0.]), array([0., 1., 0., 0.]), array([0., 1., 0., 0.]), array([0., 1., 0., 0.]), array([0., 1., 0., 0.]), array([0., 1., 0., 0.]), array([0., 1., 0., 0.]), array([0., 1., 0., 0.])]\n",
            "[array([1., 0., 0., 0.]), array([0., 1., 0., 0.]), array([0., 1., 0., 0.]), array([0., 1., 0., 0.]), array([0., 1., 0., 0.]), array([0., 1., 0., 0.]), array([0., 1., 0., 0.]), array([0., 1., 0., 0.])]\n",
            "[array([1., 0., 0., 0.]), array([0., 0., 1., 0.]), array([0., 0., 1., 0.]), array([0., 0., 1., 0.]), array([0., 0., 1., 0.]), array([0., 0., 1., 0.]), array([0., 0., 1., 0.]), array([1., 0., 0., 0.])]\n",
            "\n",
            "\n",
            "-- Valores Esperados (Política Melhorada) --\n",
            "[[  1.90206321   2.16895912   2.46551013   2.79501126 -10.\n",
            "    3.56791513 -10.          -3.        ]\n",
            " [  2.16895912   2.46551013   2.79501126   3.16112362   3.56791513\n",
            "    4.01990571   4.52211745   5.0801305 ]\n",
            " [  2.46551013   2.79501126   3.16112362   3.56791513   4.01990571\n",
            "    4.52211745   5.0801305    5.700145  ]\n",
            " [  2.79501126   3.16112362   3.56791513   4.01990571   4.52211745\n",
            "    5.0801305    5.700145     6.38905   ]\n",
            " [  3.16112362   3.56791513  -3.           4.52211745   5.0801305\n",
            "    5.700145     6.38905      7.1545    ]\n",
            " [  3.56791513   4.01990571   4.52211745   5.0801305    5.700145\n",
            "    6.38905      7.1545       8.005     ]\n",
            " [ -3.           4.52211745   5.0801305    5.700145     6.38905\n",
            "    7.1545       8.005        8.95      ]\n",
            " [-10.           5.0801305    5.700145     6.38905      7.1545\n",
            "    8.005        8.95        10.        ]]\n"
          ]
        },
        {
          "output_type": "display_data",
          "data": {
            "text/plain": [
              "<Figure size 640x480 with 1 Axes>"
            ],
            "image/png": "[encoded data removed]"
          },
          "metadata": {}
        },
        {
          "output_type": "stream",
          "name": "stdout",
          "text": [
            "Passos da segunda política: 14\n"
          ]
        }
      ]
    },
    {
      "cell_type": "markdown",
      "source": [
        "##Comparação das políticas\n",
        "\n",
        "A segunda política foi calculada utilizando o método de Policy Iteration para encontrar a melhor política. Para comprovar que foi encontrada uma política melhor do que a inicial, foi decidido fazer um teste rodando múltiplas vezes cada experimento e calculando a porcentagem de acertos para cada política, alterando a quantidade de montanhas de 0 a 10. Para cada quantidade de montanhas foram gerados 100 resultados para cada política, que podem ser visualizados no gráfico abaixo."
      ],
      "metadata": {
        "id": "ziTwnC7YtUTz"
      }
    },
    {
      "cell_type": "code",
      "source": [
        "episodios = 100\n",
        "qtd_montanhas = [0, 1, 2, 3, 4, 5, 6, 7, 8, 9, 10]\n",
        "\n",
        "acertos_politica_1 = []\n",
        "acertos_politica_2 = []\n",
        "\n",
        "for j in range(len(qtd_montanhas)):\n",
        "  print(j)\n",
        "  finalizacao_1 = episodios\n",
        "  finalizacao_2 = episodios\n",
        "  for i in range(episodios):\n",
        "    env = Grid(qtd_montanhas[j])\n",
        "\n",
        "    politicas = obter_politicas()\n",
        "    valores_1 = avaliacao_iterativa(env, politicas, 0.0001, 0.9)\n",
        "\n",
        "    trajeto_1, passos_1, fim_de_jogo = obter_trajeto(env, valores_1, politicas)\n",
        "\n",
        "    grid_visualizacao_1 = np.copy(env.grid)\n",
        "    for posicao in trajeto_1:\n",
        "      grid_visualizacao_1[posicao[0]][posicao[1]] = 10\n",
        "\n",
        "    if fim_de_jogo == -1:\n",
        "      finalizacao_1 -= 1\n",
        "\n",
        "    env.reset()\n",
        "\n",
        "    politicas_novas = politicas_1.copy()\n",
        "    valores_novos, politicas_novas = melhorar_politica(env, politicas_novas)\n",
        "\n",
        "    grid_visualizacao_2 = np.copy(env.grid)\n",
        "    trajeto_2, passos_2, fim_de_jogo = obter_trajeto(env, valores_novos, politicas_novas)\n",
        "\n",
        "    for posicao in trajeto_2:\n",
        "      grid_visualizacao_2[posicao[0]][posicao[1]] = 10\n",
        "\n",
        "    if fim_de_jogo == -1:\n",
        "      finalizacao_2 -= 1\n",
        "  acertos_politica_1.append((finalizacao_1 / episodios) * 100)\n",
        "  acertos_politica_2.append((finalizacao_2 / episodios) * 100)\n",
        "\n",
        "plt.figure(figsize=(10, 6))\n",
        "qtd_montanhas = [0, 1, 2, 3, 4, 5, 6, 7, 8, 9, 10]\n",
        "\n",
        "X_axis = np.arange(len(qtd_montanhas))\n",
        "\n",
        "plt.bar(X_axis - 0.2, acertos_politica_1, 0.4, label = 'Política 1')\n",
        "plt.bar(X_axis + 0.2, acertos_politica_2, 0.4, label = 'Política 2')\n",
        "plt.xticks(X_axis, qtd_montanhas)\n",
        "plt.xlabel(\"Número de montanhas\")\n",
        "plt.ylabel(\"Porcentagem de acertos\")\n",
        "plt.title(\"Porcentagem de acertos de cada política para diferentes números de montanhas\")\n",
        "plt.legend()\n",
        "plt.show()"
      ],
      "metadata": {
        "colab": {
          "base_uri": "https://localhost:8080/",
          "height": 756
        },
        "id": "vAhSeqjEqROS",
        "outputId": "2b73d13e-6d68-4755-ca1e-fc830088917f"
      },
      "execution_count": null,
      "outputs": [
        {
          "output_type": "stream",
          "name": "stdout",
          "text": [
            "0\n",
            "1\n",
            "2\n",
            "3\n",
            "4\n",
            "5\n",
            "6\n",
            "7\n",
            "8\n",
            "9\n",
            "10\n"
          ]
        },
        {
          "output_type": "display_data",
          "data": {
            "text/plain": [
              "<Figure size 1000x600 with 1 Axes>"
            ],
            "image/png": "[encoded data removed]"
          },
          "metadata": {}
        }
      ]
    },
    {
      "cell_type": "markdown",
      "source": [
        "É possível perceber que a política inicial foi melhorada substancialmente, considerando que a taxa de acertos se manteve acima dos 80% mesmo com 10 montanhas, enquanto que a política inicial foi decrescendo com mais montanhas."
      ],
      "metadata": {
        "id": "DKMsKQg3Akwn"
      }
    }
  ]
}